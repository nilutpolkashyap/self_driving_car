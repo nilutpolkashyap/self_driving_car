{
 "cells": [
  {
   "cell_type": "code",
   "execution_count": 1,
   "metadata": {},
   "outputs": [],
   "source": [
    "%config Completer.use_jedi = False"
   ]
  },
  {
   "cell_type": "code",
   "execution_count": 2,
   "metadata": {},
   "outputs": [],
   "source": [
    "import pandas as pd\n",
    "import os\n",
    "import numpy as np\n",
    "import matplotlib.pyplot as plt\n",
    "%matplotlib inline\n",
    "\n",
    "from sklearn.utils import shuffle"
   ]
  },
  {
   "cell_type": "code",
   "execution_count": 10,
   "metadata": {},
   "outputs": [],
   "source": [
    "def getFileName(filePath):\n",
    "    return filePath.split('\\\\')[-1]"
   ]
  },
  {
   "cell_type": "code",
   "execution_count": 11,
   "metadata": {},
   "outputs": [],
   "source": [
    "def importData(path):\n",
    "    columns = ['Center','Left','Right','Steering','Throttle','Brake','Speed']\n",
    "    data = pd.read_csv(os.path.join(path, 'driving_log.csv'),names = columns)\n",
    "#     print(data.head())\n",
    "#     print(data['Center'][0])\n",
    "#     print(getFileName(data['Center'][0]))\n",
    "    data['Center'] = data['Center'].apply(getFileName)\n",
    "    print(data.head())\n",
    "    print(data.shape[0])\n",
    "    return data"
   ]
  },
  {
   "cell_type": "code",
   "execution_count": 12,
   "metadata": {},
   "outputs": [
    {
     "name": "stdout",
     "output_type": "stream",
     "text": [
      "                               Center  \\\n",
      "0  center_2021_11_22_23_36_47_786.jpg   \n",
      "1  center_2021_11_22_23_36_47_851.jpg   \n",
      "2  center_2021_11_22_23_36_47_920.jpg   \n",
      "3  center_2021_11_22_23_36_47_987.jpg   \n",
      "4  center_2021_11_22_23_36_48_055.jpg   \n",
      "\n",
      "                                                Left  \\\n",
      "0  F:\\github\\self_driving_car\\simulation_data\\IMG...   \n",
      "1  F:\\github\\self_driving_car\\simulation_data\\IMG...   \n",
      "2  F:\\github\\self_driving_car\\simulation_data\\IMG...   \n",
      "3  F:\\github\\self_driving_car\\simulation_data\\IMG...   \n",
      "4  F:\\github\\self_driving_car\\simulation_data\\IMG...   \n",
      "\n",
      "                                               Right  Steering  Throttle  \\\n",
      "0  F:\\github\\self_driving_car\\simulation_data\\IMG...       0.0       0.0   \n",
      "1  F:\\github\\self_driving_car\\simulation_data\\IMG...       0.0       0.0   \n",
      "2  F:\\github\\self_driving_car\\simulation_data\\IMG...       0.0       0.0   \n",
      "3  F:\\github\\self_driving_car\\simulation_data\\IMG...       0.0       0.0   \n",
      "4  F:\\github\\self_driving_car\\simulation_data\\IMG...       0.0       0.0   \n",
      "\n",
      "   Brake     Speed  \n",
      "0    0.0  0.000007  \n",
      "1    0.0  0.000021  \n",
      "2    0.0  0.000004  \n",
      "3    0.0  0.000022  \n",
      "4    0.0  0.000005  \n",
      "21063\n"
     ]
    }
   ],
   "source": [
    "data = importData('simulation_data/')"
   ]
  },
  {
   "cell_type": "code",
   "execution_count": 13,
   "metadata": {},
   "outputs": [
    {
     "data": {
      "text/html": [
       "<div>\n",
       "<style scoped>\n",
       "    .dataframe tbody tr th:only-of-type {\n",
       "        vertical-align: middle;\n",
       "    }\n",
       "\n",
       "    .dataframe tbody tr th {\n",
       "        vertical-align: top;\n",
       "    }\n",
       "\n",
       "    .dataframe thead th {\n",
       "        text-align: right;\n",
       "    }\n",
       "</style>\n",
       "<table border=\"1\" class=\"dataframe\">\n",
       "  <thead>\n",
       "    <tr style=\"text-align: right;\">\n",
       "      <th></th>\n",
       "      <th>Center</th>\n",
       "      <th>Left</th>\n",
       "      <th>Right</th>\n",
       "      <th>Steering</th>\n",
       "      <th>Throttle</th>\n",
       "      <th>Brake</th>\n",
       "      <th>Speed</th>\n",
       "    </tr>\n",
       "  </thead>\n",
       "  <tbody>\n",
       "    <tr>\n",
       "      <th>0</th>\n",
       "      <td>center_2021_11_22_23_36_47_786.jpg</td>\n",
       "      <td>F:\\github\\self_driving_car\\simulation_data\\IMG...</td>\n",
       "      <td>F:\\github\\self_driving_car\\simulation_data\\IMG...</td>\n",
       "      <td>0.0</td>\n",
       "      <td>0.0</td>\n",
       "      <td>0.0</td>\n",
       "      <td>0.000007</td>\n",
       "    </tr>\n",
       "    <tr>\n",
       "      <th>1</th>\n",
       "      <td>center_2021_11_22_23_36_47_851.jpg</td>\n",
       "      <td>F:\\github\\self_driving_car\\simulation_data\\IMG...</td>\n",
       "      <td>F:\\github\\self_driving_car\\simulation_data\\IMG...</td>\n",
       "      <td>0.0</td>\n",
       "      <td>0.0</td>\n",
       "      <td>0.0</td>\n",
       "      <td>0.000021</td>\n",
       "    </tr>\n",
       "    <tr>\n",
       "      <th>2</th>\n",
       "      <td>center_2021_11_22_23_36_47_920.jpg</td>\n",
       "      <td>F:\\github\\self_driving_car\\simulation_data\\IMG...</td>\n",
       "      <td>F:\\github\\self_driving_car\\simulation_data\\IMG...</td>\n",
       "      <td>0.0</td>\n",
       "      <td>0.0</td>\n",
       "      <td>0.0</td>\n",
       "      <td>0.000004</td>\n",
       "    </tr>\n",
       "    <tr>\n",
       "      <th>3</th>\n",
       "      <td>center_2021_11_22_23_36_47_987.jpg</td>\n",
       "      <td>F:\\github\\self_driving_car\\simulation_data\\IMG...</td>\n",
       "      <td>F:\\github\\self_driving_car\\simulation_data\\IMG...</td>\n",
       "      <td>0.0</td>\n",
       "      <td>0.0</td>\n",
       "      <td>0.0</td>\n",
       "      <td>0.000022</td>\n",
       "    </tr>\n",
       "    <tr>\n",
       "      <th>4</th>\n",
       "      <td>center_2021_11_22_23_36_48_055.jpg</td>\n",
       "      <td>F:\\github\\self_driving_car\\simulation_data\\IMG...</td>\n",
       "      <td>F:\\github\\self_driving_car\\simulation_data\\IMG...</td>\n",
       "      <td>0.0</td>\n",
       "      <td>0.0</td>\n",
       "      <td>0.0</td>\n",
       "      <td>0.000005</td>\n",
       "    </tr>\n",
       "    <tr>\n",
       "      <th>...</th>\n",
       "      <td>...</td>\n",
       "      <td>...</td>\n",
       "      <td>...</td>\n",
       "      <td>...</td>\n",
       "      <td>...</td>\n",
       "      <td>...</td>\n",
       "      <td>...</td>\n",
       "    </tr>\n",
       "    <tr>\n",
       "      <th>21058</th>\n",
       "      <td>center_2021_11_23_00_36_34_927.jpg</td>\n",
       "      <td>F:\\github\\self_driving_car\\simulation_data\\IMG...</td>\n",
       "      <td>F:\\github\\self_driving_car\\simulation_data\\IMG...</td>\n",
       "      <td>0.0</td>\n",
       "      <td>0.0</td>\n",
       "      <td>0.0</td>\n",
       "      <td>0.155977</td>\n",
       "    </tr>\n",
       "    <tr>\n",
       "      <th>21059</th>\n",
       "      <td>center_2021_11_23_00_36_34_998.jpg</td>\n",
       "      <td>F:\\github\\self_driving_car\\simulation_data\\IMG...</td>\n",
       "      <td>F:\\github\\self_driving_car\\simulation_data\\IMG...</td>\n",
       "      <td>0.0</td>\n",
       "      <td>0.0</td>\n",
       "      <td>0.0</td>\n",
       "      <td>0.156202</td>\n",
       "    </tr>\n",
       "    <tr>\n",
       "      <th>21060</th>\n",
       "      <td>center_2021_11_23_00_36_35_072.jpg</td>\n",
       "      <td>F:\\github\\self_driving_car\\simulation_data\\IMG...</td>\n",
       "      <td>F:\\github\\self_driving_car\\simulation_data\\IMG...</td>\n",
       "      <td>0.0</td>\n",
       "      <td>0.0</td>\n",
       "      <td>0.0</td>\n",
       "      <td>0.156501</td>\n",
       "    </tr>\n",
       "    <tr>\n",
       "      <th>21061</th>\n",
       "      <td>center_2021_11_23_00_36_35_145.jpg</td>\n",
       "      <td>F:\\github\\self_driving_car\\simulation_data\\IMG...</td>\n",
       "      <td>F:\\github\\self_driving_car\\simulation_data\\IMG...</td>\n",
       "      <td>0.0</td>\n",
       "      <td>0.0</td>\n",
       "      <td>0.0</td>\n",
       "      <td>0.156797</td>\n",
       "    </tr>\n",
       "    <tr>\n",
       "      <th>21062</th>\n",
       "      <td>center_2021_11_23_00_36_35_372.jpg</td>\n",
       "      <td>F:\\github\\self_driving_car\\simulation_data\\IMG...</td>\n",
       "      <td>F:\\github\\self_driving_car\\simulation_data\\IMG...</td>\n",
       "      <td>0.0</td>\n",
       "      <td>0.0</td>\n",
       "      <td>0.0</td>\n",
       "      <td>0.157062</td>\n",
       "    </tr>\n",
       "  </tbody>\n",
       "</table>\n",
       "<p>21063 rows × 7 columns</p>\n",
       "</div>"
      ],
      "text/plain": [
       "                                   Center  \\\n",
       "0      center_2021_11_22_23_36_47_786.jpg   \n",
       "1      center_2021_11_22_23_36_47_851.jpg   \n",
       "2      center_2021_11_22_23_36_47_920.jpg   \n",
       "3      center_2021_11_22_23_36_47_987.jpg   \n",
       "4      center_2021_11_22_23_36_48_055.jpg   \n",
       "...                                   ...   \n",
       "21058  center_2021_11_23_00_36_34_927.jpg   \n",
       "21059  center_2021_11_23_00_36_34_998.jpg   \n",
       "21060  center_2021_11_23_00_36_35_072.jpg   \n",
       "21061  center_2021_11_23_00_36_35_145.jpg   \n",
       "21062  center_2021_11_23_00_36_35_372.jpg   \n",
       "\n",
       "                                                    Left  \\\n",
       "0      F:\\github\\self_driving_car\\simulation_data\\IMG...   \n",
       "1      F:\\github\\self_driving_car\\simulation_data\\IMG...   \n",
       "2      F:\\github\\self_driving_car\\simulation_data\\IMG...   \n",
       "3      F:\\github\\self_driving_car\\simulation_data\\IMG...   \n",
       "4      F:\\github\\self_driving_car\\simulation_data\\IMG...   \n",
       "...                                                  ...   \n",
       "21058  F:\\github\\self_driving_car\\simulation_data\\IMG...   \n",
       "21059  F:\\github\\self_driving_car\\simulation_data\\IMG...   \n",
       "21060  F:\\github\\self_driving_car\\simulation_data\\IMG...   \n",
       "21061  F:\\github\\self_driving_car\\simulation_data\\IMG...   \n",
       "21062  F:\\github\\self_driving_car\\simulation_data\\IMG...   \n",
       "\n",
       "                                                   Right  Steering  Throttle  \\\n",
       "0      F:\\github\\self_driving_car\\simulation_data\\IMG...       0.0       0.0   \n",
       "1      F:\\github\\self_driving_car\\simulation_data\\IMG...       0.0       0.0   \n",
       "2      F:\\github\\self_driving_car\\simulation_data\\IMG...       0.0       0.0   \n",
       "3      F:\\github\\self_driving_car\\simulation_data\\IMG...       0.0       0.0   \n",
       "4      F:\\github\\self_driving_car\\simulation_data\\IMG...       0.0       0.0   \n",
       "...                                                  ...       ...       ...   \n",
       "21058  F:\\github\\self_driving_car\\simulation_data\\IMG...       0.0       0.0   \n",
       "21059  F:\\github\\self_driving_car\\simulation_data\\IMG...       0.0       0.0   \n",
       "21060  F:\\github\\self_driving_car\\simulation_data\\IMG...       0.0       0.0   \n",
       "21061  F:\\github\\self_driving_car\\simulation_data\\IMG...       0.0       0.0   \n",
       "21062  F:\\github\\self_driving_car\\simulation_data\\IMG...       0.0       0.0   \n",
       "\n",
       "       Brake     Speed  \n",
       "0        0.0  0.000007  \n",
       "1        0.0  0.000021  \n",
       "2        0.0  0.000004  \n",
       "3        0.0  0.000022  \n",
       "4        0.0  0.000005  \n",
       "...      ...       ...  \n",
       "21058    0.0  0.155977  \n",
       "21059    0.0  0.156202  \n",
       "21060    0.0  0.156501  \n",
       "21061    0.0  0.156797  \n",
       "21062    0.0  0.157062  \n",
       "\n",
       "[21063 rows x 7 columns]"
      ]
     },
     "execution_count": 13,
     "metadata": {},
     "output_type": "execute_result"
    }
   ],
   "source": [
    "data"
   ]
  },
  {
   "cell_type": "code",
   "execution_count": 14,
   "metadata": {},
   "outputs": [],
   "source": [
    "def balanceData(data, display=True):\n",
    "    nBins = 21\n",
    "    samplesPerBin = 3000\n",
    "    hist, bins = np.histogram(data['Steering'], nBins)\n",
    "#     print(bins)\n",
    "    if display:\n",
    "        center = (bins[:-1] + bins[1:]) * 0.5\n",
    "    #     print(center)\n",
    "        plt.bar(center, hist, width=0.06)\n",
    "        plt.plot((-1,1),(samplesPerBin, samplesPerBin))\n",
    "        plt.show()\n",
    "        \n",
    "    removeIndexList = []\n",
    "    for j in range(nBins):\n",
    "        binDataList = []\n",
    "        for i in range(len(data['Steering'])):\n",
    "            if data['Steering'][i] >= bins[j] and data['Steering'][i] <= bins[j+1]:\n",
    "                binDataList.append(i)\n",
    "        binDataList = shuffle(binDataList)\n",
    "        binDataList = binDataList[samplesPerBin:]\n",
    "        removeIndexList.extend(binDataList)\n",
    "        \n",
    "    print(\"Removed Images: \", len(removeIndexList))\n",
    "    \n",
    "    data.drop(data.index[removeIndexList], inplace=True)\n",
    "    print('Remaining Images: ', len(data))\n",
    "    \n",
    "    if display:\n",
    "        hist, _ = np.histogram(data['Steering'], nBins)\n",
    "        plt.bar(center, hist, width=0.06)\n",
    "        plt.plot((-1,1), (samplesPerBin, samplesPerBin))\n",
    "        plt.show()\n",
    "        \n",
    "    return data"
   ]
  },
  {
   "cell_type": "code",
   "execution_count": 15,
   "metadata": {},
   "outputs": [
    {
     "data": {
      "image/png": "[encoded data removed]",
      "text/plain": [
       "<Figure size 432x288 with 1 Axes>"
      ]
     },
     "metadata": {
      "needs_background": "light"
     },
     "output_type": "display_data"
    },
    {
     "name": "stdout",
     "output_type": "stream",
     "text": [
      "Removed Images:  9354\n",
      "Remaining Images:  11709\n"
     ]
    },
    {
     "data": {
      "image/png": "[encoded data removed]",
      "text/plain": [
       "<Figure size 432x288 with 1 Axes>"
      ]
     },
     "metadata": {
      "needs_background": "light"
     },
     "output_type": "display_data"
    }
   ],
   "source": [
    "balanced_data = balanceData(data, display=True)"
   ]
  },
  {
   "cell_type": "code",
   "execution_count": null,
   "metadata": {},
   "outputs": [],
   "source": []
  }
 ],
 "metadata": {
  "kernelspec": {
   "display_name": "tfgpu",
   "language": "python",
   "name": "tfgpu"
  },
  "language_info": {
   "codemirror_mode": {
    "name": "ipython",
    "version": 3
   },
   "file_extension": ".py",
   "mimetype": "text/x-python",
   "name": "python",
   "nbconvert_exporter": "python",
   "pygments_lexer": "ipython3",
   "version": "3.7.11"
  }
 },
 "nbformat": 4,
 "nbformat_minor": 4
}
